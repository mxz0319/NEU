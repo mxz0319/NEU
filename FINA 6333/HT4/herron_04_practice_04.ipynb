{
 "cells": [
  {
   "cell_type": "markdown",
   "id": "22b59adb-864b-49c7-99dc-5f498ced59c2",
   "metadata": {},
   "source": [
    "# Herron Topic 4 - Practice (Wednesday 11:45 AM, Section 4)"
   ]
  },
  {
   "cell_type": "markdown",
   "id": "5adf9803-55e1-4ccc-a675-65f13ac58bca",
   "metadata": {},
   "source": [
    "## Announcements"
   ]
  },
  {
   "cell_type": "markdown",
   "id": "e11be65c-83b3-41cb-a11b-576791f77349",
   "metadata": {},
   "source": [
    "- Quiz 6 this week\n",
    "    - I will post it at about 6 PM on Wednesday, 3/31\n",
    "    - It will be due by 11:59 PM on Friday, 3/31\n",
    "- Please complete the week ten survey\n",
    "    - I am considering dropping a topic to allow more in-class group work and easier access to me\n",
    "    - I am also curious why the quantitative courses are less popular this summer\n",
    "    - Please complete by 11:59 PM on Friday, 3/31\n",
    "    - ***The week ten survey is anonymous and voluntary***\n",
    "- I will post project 2 as soon as I can\n",
    "- Assessment exam\n",
    "    - 20 questions multiple on Canvas\n",
    "    - You must be in the room \n",
    "    - No specific studying, but I suggest putting core course resources on your laptop (e.g., notes and PowerPoints)"
   ]
  },
  {
   "cell_type": "markdown",
   "id": "837fbfec-079d-4190-b763-7cf5e73ec3e2",
   "metadata": {},
   "source": [
    "##  Practice"
   ]
  },
  {
   "cell_type": "code",
   "execution_count": 6,
   "id": "6059d53e-f7c9-4628-827a-f334b7786a3f",
   "metadata": {
    "editable": true
   },
   "outputs": [],
   "source": [
    "import matplotlib.pyplot as plt\n",
    "import numpy as np\n",
    "import pandas as pd"
   ]
  },
  {
   "cell_type": "code",
   "execution_count": 7,
   "id": "fb946354-49de-4b3f-a62f-9b73d4a5c098",
   "metadata": {},
   "outputs": [],
   "source": [
    "%config InlineBackend.figure_format = 'retina'\n",
    "%precision 4\n",
    "pd.options.display.float_format = '{:.4f}'.format"
   ]
  },
  {
   "cell_type": "code",
   "execution_count": 8,
   "id": "bbf50910-8dcf-43b0-a755-51f8e7300297",
   "metadata": {},
   "outputs": [],
   "source": [
    "import yfinance as yf\n",
    "import pandas_datareader as pdr\n",
    "import requests_cache\n",
    "session = requests_cache.CachedSession()"
   ]
  },
  {
   "cell_type": "code",
   "execution_count": 1,
   "id": "48350f51-60da-4e3e-9a61-7d691eb666b0",
   "metadata": {},
   "outputs": [],
   "source": [
    "import scipy.optimize as sco"
   ]
  },
  {
   "cell_type": "markdown",
   "id": "37b59c94-48f2-41fb-a50f-9c8eb794de9e",
   "metadata": {
    "tags": []
   },
   "source": [
    "### Find the maximum Sharpe Ratio portfolio of MATANA stocks over the last three years"
   ]
  },
  {
   "cell_type": "markdown",
   "id": "4de24876-8995-4d27-a816-81a36030067f",
   "metadata": {},
   "source": [
    "***Note that `sco.minimize()` finds minimums, so we need to minimize the negative Sharpe Ratio.***\n",
    "\n",
    "The following code downloads data for the MATANA stocks and assigns daily decimal returns from 2020 through 2022 to data frame `returns`.\n",
    "We will stop in 2022 to make it easier to compare our results, whether we use the risk-free rate or value-weighted market portfolio as our benchmark or not.\n",
    "Recall, the Fama and French benchmark factors are only available with a lag, and are only available through December 2022 as I type."
   ]
  },
  {
   "cell_type": "code",
   "execution_count": 6,
   "id": "d6f8c2a0-ffd8-4007-9b74-e8f9880a13c2",
   "metadata": {
    "ExecuteTime": {
     "end_time": "2019-12-06T18:05:52.060088Z",
     "start_time": "2019-12-06T18:05:52.047752Z"
    }
   },
   "outputs": [
    {
     "data": {
      "text/html": [
       "<div>\n",
       "<style scoped>\n",
       "    .dataframe tbody tr th:only-of-type {\n",
       "        vertical-align: middle;\n",
       "    }\n",
       "\n",
       "    .dataframe tbody tr th {\n",
       "        vertical-align: top;\n",
       "    }\n",
       "\n",
       "    .dataframe thead th {\n",
       "        text-align: right;\n",
       "    }\n",
       "</style>\n",
       "<table border=\"1\" class=\"dataframe\">\n",
       "  <thead>\n",
       "    <tr style=\"text-align: right;\">\n",
       "      <th>Ticker</th>\n",
       "      <th>AAPL</th>\n",
       "      <th>AMZN</th>\n",
       "      <th>GOOG</th>\n",
       "      <th>MSFT</th>\n",
       "      <th>NVDA</th>\n",
       "      <th>TSLA</th>\n",
       "    </tr>\n",
       "  </thead>\n",
       "  <tbody>\n",
       "    <tr>\n",
       "      <th>count</th>\n",
       "      <td>756.0000</td>\n",
       "      <td>756.0000</td>\n",
       "      <td>756.0000</td>\n",
       "      <td>756.0000</td>\n",
       "      <td>756.0000</td>\n",
       "      <td>756.0000</td>\n",
       "    </tr>\n",
       "    <tr>\n",
       "      <th>mean</th>\n",
       "      <td>0.0011</td>\n",
       "      <td>0.0002</td>\n",
       "      <td>0.0006</td>\n",
       "      <td>0.0008</td>\n",
       "      <td>0.0018</td>\n",
       "      <td>0.0030</td>\n",
       "    </tr>\n",
       "    <tr>\n",
       "      <th>std</th>\n",
       "      <td>0.0233</td>\n",
       "      <td>0.0246</td>\n",
       "      <td>0.0217</td>\n",
       "      <td>0.0219</td>\n",
       "      <td>0.0352</td>\n",
       "      <td>0.0455</td>\n",
       "    </tr>\n",
       "    <tr>\n",
       "      <th>min</th>\n",
       "      <td>-0.1286</td>\n",
       "      <td>-0.1405</td>\n",
       "      <td>-0.1110</td>\n",
       "      <td>-0.1474</td>\n",
       "      <td>-0.1845</td>\n",
       "      <td>-0.2106</td>\n",
       "    </tr>\n",
       "    <tr>\n",
       "      <th>25%</th>\n",
       "      <td>-0.0110</td>\n",
       "      <td>-0.0129</td>\n",
       "      <td>-0.0097</td>\n",
       "      <td>-0.0097</td>\n",
       "      <td>-0.0177</td>\n",
       "      <td>-0.0215</td>\n",
       "    </tr>\n",
       "    <tr>\n",
       "      <th>50%</th>\n",
       "      <td>0.0006</td>\n",
       "      <td>0.0006</td>\n",
       "      <td>0.0012</td>\n",
       "      <td>0.0007</td>\n",
       "      <td>0.0029</td>\n",
       "      <td>0.0020</td>\n",
       "    </tr>\n",
       "    <tr>\n",
       "      <th>75%</th>\n",
       "      <td>0.0142</td>\n",
       "      <td>0.0123</td>\n",
       "      <td>0.0114</td>\n",
       "      <td>0.0123</td>\n",
       "      <td>0.0222</td>\n",
       "      <td>0.0251</td>\n",
       "    </tr>\n",
       "    <tr>\n",
       "      <th>max</th>\n",
       "      <td>0.1198</td>\n",
       "      <td>0.1354</td>\n",
       "      <td>0.0940</td>\n",
       "      <td>0.1422</td>\n",
       "      <td>0.1716</td>\n",
       "      <td>0.1989</td>\n",
       "    </tr>\n",
       "  </tbody>\n",
       "</table>\n",
       "</div>"
      ],
      "text/plain": [
       "Ticker     AAPL     AMZN     GOOG     MSFT     NVDA     TSLA\n",
       "count  756.0000 756.0000 756.0000 756.0000 756.0000 756.0000\n",
       "mean     0.0011   0.0002   0.0006   0.0008   0.0018   0.0030\n",
       "std      0.0233   0.0246   0.0217   0.0219   0.0352   0.0455\n",
       "min     -0.1286  -0.1405  -0.1110  -0.1474  -0.1845  -0.2106\n",
       "25%     -0.0110  -0.0129  -0.0097  -0.0097  -0.0177  -0.0215\n",
       "50%      0.0006   0.0006   0.0012   0.0007   0.0029   0.0020\n",
       "75%      0.0142   0.0123   0.0114   0.0123   0.0222   0.0251\n",
       "max      0.1198   0.1354   0.0940   0.1422   0.1716   0.1989"
      ]
     },
     "execution_count": 6,
     "metadata": {},
     "output_type": "execute_result"
    }
   ],
   "source": [
    "tickers = 'MSFT AAPL TSLA AMZN NVDA GOOG'\n",
    "\n",
    "matana = (\n",
    "    yf.download(tickers=tickers, progress=False)\n",
    "    .assign(Date=lambda x: x.index.tz_localize(None))\n",
    "    .set_index('Date')\n",
    "    .rename_axis(columns=['Variable', 'Ticker'])\n",
    ")\n",
    "\n",
    "returns = matana['Adj Close'].pct_change().loc['2020':'2022']\n",
    "returns.describe()"
   ]
  },
  {
   "cell_type": "markdown",
   "id": "a859d74b-2cc5-4e7c-81f7-e8cb77aceb05",
   "metadata": {},
   "source": [
    "### Find the maximum Sharpe Ratio portfolio of MATANA stocks over the last three years, but allow short weights up to 10% on each stock"
   ]
  },
  {
   "cell_type": "markdown",
   "id": "3e391bdd-72b8-4b87-bec1-c1345cd4c1de",
   "metadata": {},
   "source": [
    "### Find the maximum Sharpe Ratio portfolio of MATANA stocks over the last three years, but allow total short weights of up to 30%"
   ]
  },
  {
   "cell_type": "markdown",
   "id": "00a10e0f-4c68-47db-af9e-8ff3dbe8e2fa",
   "metadata": {},
   "source": [
    "### Find the maximum Sharpe Ratio portfolio of MATANA stocks over the last three years, but do not allow any weight to exceed 30% in magnitude"
   ]
  },
  {
   "cell_type": "markdown",
   "id": "a28263c2-e22e-4099-a799-b0822e2cc854",
   "metadata": {},
   "source": [
    "### Find the minimum 95% Value at Risk (Var) portfolio of MATANA stocks over the last three years"
   ]
  },
  {
   "cell_type": "markdown",
   "id": "1acca0a3-691e-4405-a330-86afc9cddcda",
   "metadata": {},
   "source": [
    "More on VaR [here](https://en.wikipedia.org/wiki/Value_at_risk)."
   ]
  },
  {
   "cell_type": "markdown",
   "id": "60cc19d8-c3ca-4f12-bc64-342b87e74754",
   "metadata": {},
   "source": [
    "### Find the minimum maximum draw down portfolio of MATANA stocks over the last three years"
   ]
  },
  {
   "cell_type": "markdown",
   "id": "66e4e425-1ec4-4f4a-890d-dac809818c39",
   "metadata": {},
   "source": [
    "### Find the minimum maximum draw down portfolio with all available data for the current Dow-Jones Industrial Average (DJIA) stocks"
   ]
  },
  {
   "cell_type": "markdown",
   "id": "af036246-bea7-4324-ae0c-bfb8cafe7951",
   "metadata": {},
   "source": [
    "You can find the [DJIA tickers on Wikipedia](https://en.wikipedia.org/wiki/Dow_Jones_Industrial_Average)."
   ]
  },
  {
   "cell_type": "markdown",
   "id": "564991c1-0cee-4668-8dd5-ce025575cdf7",
   "metadata": {},
   "source": [
    "### Plot the (mean-variance) efficient frontier with all available data for the current the DJIA stocks"
   ]
  },
  {
   "cell_type": "markdown",
   "id": "7f58fcc6-c41e-447d-aef5-0c9d601374eb",
   "metadata": {},
   "source": [
    "### Find the maximum Sharpe Ratio portfolio with all available data for the current the DJIA stocks"
   ]
  },
  {
   "cell_type": "markdown",
   "id": "d537b8e3-c4a3-4ccc-88ff-b7ba862ff796",
   "metadata": {},
   "source": [
    "### Compare the $\\frac{1}{n}$ and maximum Sharpe Ratio portfolios with all available data for the current DJIA stocks"
   ]
  },
  {
   "cell_type": "markdown",
   "id": "05df5062-5a57-45a7-b41a-e06b2551f5ea",
   "metadata": {},
   "source": [
    "Use all but the last 252 trading days to estimate the maximum Sharpe Ratio portfolio weights.\n",
    "Then use the last 252 trading days of data to compare the $\\frac{1}{n}$  maximum Sharpe Ratio portfolios."
   ]
  }
 ],
 "metadata": {
  "kernelspec": {
   "display_name": "Python 3 (ipykernel)",
   "language": "python",
   "name": "python3"
  },
  "language_info": {
   "codemirror_mode": {
    "name": "ipython",
    "version": 3
   },
   "file_extension": ".py",
   "mimetype": "text/x-python",
   "name": "python",
   "nbconvert_exporter": "python",
   "pygments_lexer": "ipython3",
   "version": "3.9.13"
  },
  "title": "Herron Topic 4 - Practice"
 },
 "nbformat": 4,
 "nbformat_minor": 5
}
