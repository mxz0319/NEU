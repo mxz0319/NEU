{
 "cells": [
  {
   "cell_type": "markdown",
   "id": "e22b96cf-fcc9-48eb-9193-5c4f7511d5ec",
   "metadata": {},
   "source": [
    "# McKinney Chapter 8 - Practice (Wednesday 11:45 AM, Section 4)"
   ]
  },
  {
   "cell_type": "markdown",
   "id": "d1d4d067-c386-43b6-a1c3-e9bfdf8aac47",
   "metadata": {},
   "source": [
    "## Announcements"
   ]
  },
  {
   "cell_type": "markdown",
   "id": "3aa04ff4-95f4-4f8d-a34a-48dc625048ea",
   "metadata": {},
   "source": [
    "## Practice"
   ]
  },
  {
   "cell_type": "markdown",
   "id": "e93fc119-300c-485b-8873-20e45cfe1076",
   "metadata": {},
   "source": [
    "### Download data from Yahoo! Finance for BAC, C, GS, JPM, MS, and PNC and assign to data frame `stocks`."
   ]
  },
  {
   "cell_type": "markdown",
   "id": "a1d8bbea-6f74-412b-99a0-f0c453b5e377",
   "metadata": {},
   "source": [
    "Use `stocks.columns.names` to assign the names `Variable` and `Ticker` to the column multi index."
   ]
  },
  {
   "cell_type": "markdown",
   "id": "b25d9cee-e491-4a19-97a9-8f77dddd8abf",
   "metadata": {},
   "source": [
    "### Reshape `stocks` from wide to long with dates and tickers as row indexes and assign to data frame `stocks_long`."
   ]
  },
  {
   "cell_type": "markdown",
   "id": "4d71d86f-2ded-4410-a67e-eb27d9691f5b",
   "metadata": {},
   "source": [
    "### Add daily returns for each stock to data frames `stocks` and `stocks_long`."
   ]
  },
  {
   "cell_type": "markdown",
   "id": "22bc3928-d1b5-4f44-955f-4c2f7c551417",
   "metadata": {},
   "source": [
    "Name the returns variable `Returns`, and maintain all multi indexes.\n",
    "*Hint:* Use `pd.MultiIndex()` to create a multi index for the the wide data frame `stocks`."
   ]
  },
  {
   "cell_type": "markdown",
   "id": "bd1c7307-ff48-47a8-971c-19e4535d0ac7",
   "metadata": {},
   "source": [
    "### Download the daily benchmark return factors from Ken French's data library."
   ]
  },
  {
   "cell_type": "markdown",
   "id": "fb5d25d2-1b2b-435d-b919-d242645060ee",
   "metadata": {},
   "source": [
    "### Add the daily benchmark return factors to `stocks` and `stocks_long`."
   ]
  },
  {
   "cell_type": "markdown",
   "id": "84823636-3557-4666-aa30-63743f8b223f",
   "metadata": {},
   "source": [
    "For the wide data frame `stocks`, use the outer index name `Factors`."
   ]
  },
  {
   "cell_type": "markdown",
   "id": "4a1d9ba1-dc4e-4f47-81a8-0279f12ba42a",
   "metadata": {},
   "source": [
    "### Write a function `download()` that accepts tickers and returns a wide data frame of returns with the daily benchmark return factors."
   ]
  },
  {
   "cell_type": "markdown",
   "id": "4588d939-0fd2-4fa9-b7f6-7cbc02094aa4",
   "metadata": {},
   "source": [
    "### Download earnings per share for the stocks in `stocks` and combine to a long data frame `earnings`."
   ]
  },
  {
   "cell_type": "markdown",
   "id": "2249b7b9-6a9a-423d-828e-cde0b0504236",
   "metadata": {},
   "source": [
    "Use the `.earnings_dates` method described [here](https://pypi.org/project/yfinance/).\n",
    "Use `pd.concat()` to combine the result of each the `.earnings_date` data frames and assign them to a new data frame `earnings`.\n",
    "Name the row indexes `Ticker` and `Date` and swap to match the order of the row index in `stocks_long`."
   ]
  },
  {
   "cell_type": "code",
   "execution_count": 14,
   "id": "2c133c09-51e6-44f9-9b68-f2a7db9a3339",
   "metadata": {
    "tags": []
   },
   "outputs": [],
   "source": [
    "# some students had to update yfinance to use the .earnings_dates atrtibute\n",
    "# %pip install -U yfinance"
   ]
  },
  {
   "cell_type": "markdown",
   "id": "e85d1ce6-a332-4e64-9d5a-c9a5edcf5a6c",
   "metadata": {
    "tags": []
   },
   "source": [
    "### Combine `earnings` with the returns from `stocks_long`."
   ]
  },
  {
   "cell_type": "markdown",
   "id": "5fb4c2ae-d9df-4bda-8bb6-df5724d6f1c3",
   "metadata": {},
   "source": [
    "***It is easier to leave `stocks` and `stocks_long` as-is and work with slices `returns` and `returns_long`.***\n",
    "Use the `tz_localize('America/New_York')` method add time zone information back to `returns.index` and use `pd.to_timedelta(16, unit='h')` to set time to the market close in New York City.\n",
    "Use [`pd.merge_asof()`](https://pandas.pydata.org/pandas-docs/stable/reference/api/pandas.merge_asof.html) to match earnings announcement dates and times to appropriate return periods.\n",
    "For example, if a firm announces earnings after the close at 5 PM on February 7, we want to match the return period from 4 PM on February 7 to 4 PM on February 8."
   ]
  },
  {
   "cell_type": "markdown",
   "id": "9b2f15e4-5c98-42e5-b8de-c63aedd2e0c9",
   "metadata": {},
   "source": [
    "### Combine add `earnings` to `stocks_long`."
   ]
  },
  {
   "cell_type": "markdown",
   "id": "5ab6c66a-ee6c-4b6e-bba4-1e99d95341dd",
   "metadata": {},
   "source": [
    "Use the `tz_convert('US/Eastern')` method add time zone information back to `stocks_long.index` and use `pd.to_timedelta(16, units='h')` to set time to the market close in New York City.\n",
    "Use [`pd.merge_asof()`](https://pandas.pydata.org/pandas-docs/stable/reference/api/pandas.merge_asof.html) to match earnings announcement dates and times to appropriate return periods.\n",
    "For example, if a firm announces earnings after the close at 5 PM on February 7, we want to match the return period from 4 PM on February 7 to 4 PM on February 8.\n"
   ]
  },
  {
   "cell_type": "markdown",
   "id": "ff90f7c7-a1ef-4e3a-b938-933ee91be1d1",
   "metadata": {},
   "source": [
    "### Plot the relation between daily returns and earnings surprises"
   ]
  },
  {
   "cell_type": "markdown",
   "id": "fd10f6f0-14d5-4547-82d4-c5e0308ec4a9",
   "metadata": {},
   "source": [
    "Three options in increasing difficulty:\n",
    "\n",
    "1. Scatter plot\n",
    "1. Scatter plot with a best-fit line using `regplot()` from the seaborn package\n",
    "1. Bar plot using `barplot()` from the seaborn package after using `pd.qcut()` to form five groups on earnings surprises"
   ]
  },
  {
   "cell_type": "markdown",
   "id": "2cb1ec70-6ad1-4069-84cc-23e6c6631fc7",
   "metadata": {},
   "source": [
    "### Repeat the earnings exercise with the S&P 100 stocks"
   ]
  },
  {
   "cell_type": "markdown",
   "id": "e0bfb7a7-4077-4f68-9c47-72010c954590",
   "metadata": {
    "tags": []
   },
   "source": [
    "### Repeat the earnings exercise with *excess returns* of the S&P 100 Stocks"
   ]
  },
  {
   "cell_type": "markdown",
   "id": "7256bb64-68a3-4baf-8afe-cd083acce1de",
   "metadata": {},
   "source": [
    "Excess returns are returns minus market returns.\n",
    "We need to add a timezone and the closing time to the market return from Fama and French."
   ]
  },
  {
   "cell_type": "markdown",
   "id": "9b361335-c39f-431d-8811-ebda2901bef7",
   "metadata": {},
   "source": [
    "### Improve your `download()` function from above"
   ]
  },
  {
   "cell_type": "markdown",
   "id": "f0262895-ae27-4cf5-b479-1be13e6a5652",
   "metadata": {},
   "source": [
    "Modify `download()` to accept one or more than one ticker.\n",
    "Since we will not use the advanced functionality of the tickers object that `yf.Tickers()` creates, we will use `yf.download()`.\n",
    "The current version of `yf.download()` does not accept a `session=` argument."
   ]
  }
 ],
 "metadata": {
  "author": "Richard Herron",
  "kernelspec": {
   "display_name": "Python 3 (ipykernel)",
   "language": "python",
   "name": "python3"
  },
  "language_info": {
   "codemirror_mode": {
    "name": "ipython",
    "version": 3
   },
   "file_extension": ".py",
   "mimetype": "text/x-python",
   "name": "python",
   "nbconvert_exporter": "python",
   "pygments_lexer": "ipython3",
   "version": "3.9.13"
  },
  "title": "McKinney Chapter 8 - Practice"
 },
 "nbformat": 4,
 "nbformat_minor": 5
}
