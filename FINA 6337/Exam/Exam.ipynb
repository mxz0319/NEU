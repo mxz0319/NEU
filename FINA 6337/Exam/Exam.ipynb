{
 "cells": [
  {
   "cell_type": "code",
   "execution_count": 1,
   "id": "a036bf40-db4c-42ce-ad82-7c24920d2c51",
   "metadata": {},
   "outputs": [],
   "source": [
    "import yfinance as yf\n",
    "import pandas_datareader.data as web\n",
    "import numpy as np\n",
    "import statsmodels.api as sm\n",
    "import pandas as pd\n",
    "import matplotlib.pyplot as plt\n",
    "from scipy.stats import norm, lognorm, binom\n",
    "import pandas_datareader as pdr"
   ]
  },
  {
   "cell_type": "code",
   "execution_count": 10,
   "id": "a07a5df3-3f44-4bb6-a88f-71bcf3713201",
   "metadata": {},
   "outputs": [],
   "source": [
    "# define brownian motion\n",
    "def gen_bm(dt = 0.0001, T = 1):\n",
    "    t = np.arange(0, 1+dt/2, dt)\n",
    "    # star at zero\n",
    "    w = np.zeros(len(t))\n",
    "    # every increament need to have random cosnt\n",
    "    for i in range(1,len(w)):\n",
    "        w[i] = w[i-1]+np.random.normal(scale = np.sqrt(dt))\n",
    "    return (t,w)\n",
    "\n",
    "def gm_gtm(s0 = 100, T = 1 ,dt = 0.0001, mu = 1, sigma = 1):\n",
    "    t,w = gen_bm(dt = dt, T = T)\n",
    "    s = np.zeros(len(t))\n",
    "    s[0] = s0\n",
    "    for i in range(1,len(s)):\n",
    "        ds = mu * s[i-1] * dt + sigma * s[i-1] * (w[i] - w[i-1])\n",
    "        s[i] = s[i-1] + ds\n",
    "    return s\n"
   ]
  },
  {
   "cell_type": "code",
   "execution_count": 46,
   "id": "e3c10cea-5b56-45d3-8fc4-1f1a3266dfde",
   "metadata": {},
   "outputs": [
    {
     "data": {
      "text/plain": [
       "1.3627442158907606"
      ]
     },
     "execution_count": 46,
     "metadata": {},
     "output_type": "execute_result"
    }
   ],
   "source": [
    "mu = 0.12; sigma = 0.33; s_0 = 1; T = 1/4\n",
    "gm_gtm(s0 = s_0, mu = mu, sigma = sigma, T=T)[-1]"
   ]
  },
  {
   "cell_type": "code",
   "execution_count": 15,
   "id": "ddda874b-4295-47cb-b2f3-0f4a47dfc936",
   "metadata": {},
   "outputs": [],
   "source": [
    "def gen_stock_price(S_0, r, sigma, T, n = 1000):\n",
    "  dt = T / n\n",
    "  t = np.linspace(0, T, n+1, endpoint=True)\n",
    "  S = np.zeros(n+1); S[0] = S_0\n",
    "  for i in range(n):\n",
    "    dS = (r * dt + sigma * np.random.normal(0, np.sqrt(dt))) * S[i]\n",
    "    S[i+1] = S[i] + dS\n",
    "  return (t, S)"
   ]
  },
  {
   "cell_type": "code",
   "execution_count": 17,
   "id": "e548651e-f87e-413b-b719-eb146bd193b4",
   "metadata": {},
   "outputs": [],
   "source": [
    "r = 0.02; sigma = 0.3; S_0 = 20"
   ]
  },
  {
   "cell_type": "code",
   "execution_count": 22,
   "id": "2e37bb86-abaa-46aa-a0d7-997f446b6269",
   "metadata": {},
   "outputs": [],
   "source": [
    "t, S = gen_stock_price(S_0, r, sigma, 1/4)"
   ]
  },
  {
   "cell_type": "code",
   "execution_count": 31,
   "id": "41a37ae3-926d-42a6-adbe-ff06d73651cf",
   "metadata": {},
   "outputs": [
    {
     "name": "stdout",
     "output_type": "stream",
     "text": [
      "[20.         19.96960199 19.87910254 ... 22.32128279 22.37453237\n",
      " 22.40624916]\n"
     ]
    }
   ],
   "source": [
    "print(S)"
   ]
  },
  {
   "cell_type": "code",
   "execution_count": 35,
   "id": "a65d69e2-e094-4015-b173-8bdf9dc84ede",
   "metadata": {},
   "outputs": [
    {
     "name": "stdout",
     "output_type": "stream",
     "text": [
      "0.441\n"
     ]
    }
   ],
   "source": [
    "r = 0.02; sigma = 0.3; S_0 = 20; count = 0\n",
    "for _ in range(1000):\n",
    "    t, S = gen_stock_price(S_0, r, sigma, 1/4)\n",
    "    #print(S)\n",
    "    #p = S.mean()\n",
    "    p = S[-1]\n",
    "    if 20 <= p and p <= 25:\n",
    "        count += 1\n",
    "e_p = count/1000\n",
    "print(e_p)"
   ]
  },
  {
   "cell_type": "code",
   "execution_count": 37,
   "id": "bcc3dac9-c6de-4b83-a595-3c02b18aebc5",
   "metadata": {},
   "outputs": [
    {
     "data": {
      "text/plain": [
       "array([1.        , 1.00075256, 0.99800821, ..., 1.07648849, 1.07555861,\n",
       "       1.0725175 ])"
      ]
     },
     "execution_count": 37,
     "metadata": {},
     "output_type": "execute_result"
    }
   ],
   "source": [
    "r = 0.12; sigma = 0.33; S_0 = 1\n",
    "_, S = gen_stock_price(S_0, r, sigma, 1/4)\n",
    "S"
   ]
  },
  {
   "cell_type": "code",
   "execution_count": null,
   "id": "fbbdf59b-54ae-4bc1-bb91-7947662050bd",
   "metadata": {},
   "outputs": [],
   "source": []
  }
 ],
 "metadata": {
  "kernelspec": {
   "display_name": "Python 3 (ipykernel)",
   "language": "python",
   "name": "python3"
  },
  "language_info": {
   "codemirror_mode": {
    "name": "ipython",
    "version": 3
   },
   "file_extension": ".py",
   "mimetype": "text/x-python",
   "name": "python",
   "nbconvert_exporter": "python",
   "pygments_lexer": "ipython3",
   "version": "3.10.9"
  }
 },
 "nbformat": 4,
 "nbformat_minor": 5
}
